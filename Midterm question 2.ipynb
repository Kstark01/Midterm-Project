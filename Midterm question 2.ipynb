{
 "cells": [
  {
   "cell_type": "code",
   "execution_count": 2,
   "id": "6460334c",
   "metadata": {},
   "outputs": [
    {
     "data": {
      "text/plain": [
       "(65, 36)"
      ]
     },
     "execution_count": 2,
     "metadata": {},
     "output_type": "execute_result"
    }
   ],
   "source": [
    "#Reading file\n",
    "import pandas as pd\n",
    "import matplotlib.pyplot as plt\n",
    "g = open(\"amazon-orders-Kali.csv\", \"r\")\n",
    "df = pd.read_csv(\"amazon-orders-Kali.csv\")\n",
    "df.head()\n",
    "df.shape"
   ]
  },
  {
   "cell_type": "code",
   "execution_count": 3,
   "id": "d072ce60",
   "metadata": {},
   "outputs": [
    {
     "name": "stderr",
     "output_type": "stream",
     "text": [
      "/var/folders/2z/_lnp0r6j35jdrtfq_fdr_wkw0000gn/T/ipykernel_77981/52630518.py:3: FutureWarning: The default value of regex will change from True to False in a future version. In addition, single character regular expressions will *not* be treated as literal strings when regex=True.\n",
      "  df[\"Item Total\"] = df[\"Item Total\"].str.replace(\"$\", \"\").astype(float)\n",
      "/var/folders/2z/_lnp0r6j35jdrtfq_fdr_wkw0000gn/T/ipykernel_77981/52630518.py:4: FutureWarning: The default value of regex will change from True to False in a future version. In addition, single character regular expressions will *not* be treated as literal strings when regex=True.\n",
      "  df[\"Item Subtotal Tax\"] = df[\"Item Subtotal Tax\"].str.replace(\"$\", \"\").astype(float)\n"
     ]
    },
    {
     "data": {
      "text/html": [
       "<div>\n",
       "<style scoped>\n",
       "    .dataframe tbody tr th:only-of-type {\n",
       "        vertical-align: middle;\n",
       "    }\n",
       "\n",
       "    .dataframe tbody tr th {\n",
       "        vertical-align: top;\n",
       "    }\n",
       "\n",
       "    .dataframe thead th {\n",
       "        text-align: right;\n",
       "    }\n",
       "</style>\n",
       "<table border=\"1\" class=\"dataframe\">\n",
       "  <thead>\n",
       "    <tr style=\"text-align: right;\">\n",
       "      <th></th>\n",
       "      <th>Order Date</th>\n",
       "      <th>Order ID</th>\n",
       "      <th>Title</th>\n",
       "      <th>Category</th>\n",
       "      <th>ASIN/ISBN</th>\n",
       "      <th>UNSPSC Code</th>\n",
       "      <th>Website</th>\n",
       "      <th>Release Date</th>\n",
       "      <th>Condition</th>\n",
       "      <th>Seller</th>\n",
       "      <th>...</th>\n",
       "      <th>Carrier Name &amp; Tracking Number</th>\n",
       "      <th>Item Subtotal</th>\n",
       "      <th>Item Subtotal Tax</th>\n",
       "      <th>Item Total</th>\n",
       "      <th>Tax Exemption Applied</th>\n",
       "      <th>Tax Exemption Type</th>\n",
       "      <th>Exemption Opt-Out</th>\n",
       "      <th>Buyer Name</th>\n",
       "      <th>Currency</th>\n",
       "      <th>Group Name</th>\n",
       "    </tr>\n",
       "  </thead>\n",
       "  <tbody>\n",
       "    <tr>\n",
       "      <th>0</th>\n",
       "      <td>2019-08-12</td>\n",
       "      <td>114-1601351-0527409</td>\n",
       "      <td>Energy, Environment, and Climate</td>\n",
       "      <td>ABIS_BOOK</td>\n",
       "      <td>0393622916</td>\n",
       "      <td>55101500.0</td>\n",
       "      <td>Amazon.com</td>\n",
       "      <td>2017-08-15T00:00:01</td>\n",
       "      <td>used good</td>\n",
       "      <td>eCampus_</td>\n",
       "      <td>...</td>\n",
       "      <td>SUREPOST(1Z9702X53A89128833)</td>\n",
       "      <td>$33.15</td>\n",
       "      <td>1.99</td>\n",
       "      <td>35.14</td>\n",
       "      <td>False</td>\n",
       "      <td>0.0</td>\n",
       "      <td>False</td>\n",
       "      <td>Kali</td>\n",
       "      <td>USD</td>\n",
       "      <td>0.0</td>\n",
       "    </tr>\n",
       "    <tr>\n",
       "      <th>1</th>\n",
       "      <td>2019-08-12</td>\n",
       "      <td>114-1601351-0527409</td>\n",
       "      <td>Energy, Environment, and Climate</td>\n",
       "      <td>ABIS_BOOK</td>\n",
       "      <td>0393622916</td>\n",
       "      <td>55101500.0</td>\n",
       "      <td>Amazon.com</td>\n",
       "      <td>2017-08-15T00:00:01</td>\n",
       "      <td>used good</td>\n",
       "      <td>eCampus_</td>\n",
       "      <td>...</td>\n",
       "      <td>SUREPOST(1Z9702X53A89128833)</td>\n",
       "      <td>$33.15</td>\n",
       "      <td>1.99</td>\n",
       "      <td>35.14</td>\n",
       "      <td>False</td>\n",
       "      <td>0.0</td>\n",
       "      <td>False</td>\n",
       "      <td>Kali</td>\n",
       "      <td>USD</td>\n",
       "      <td>0.0</td>\n",
       "    </tr>\n",
       "    <tr>\n",
       "      <th>2</th>\n",
       "      <td>2019-10-31</td>\n",
       "      <td>114-5583333-9789832</td>\n",
       "      <td>Capezio Women's Classic Short Sleeve Leotard</td>\n",
       "      <td>LEOTARD</td>\n",
       "      <td>B002KIA000</td>\n",
       "      <td>53100000.0</td>\n",
       "      <td>Amazon.com</td>\n",
       "      <td>0</td>\n",
       "      <td>new</td>\n",
       "      <td>Smilar Love</td>\n",
       "      <td>...</td>\n",
       "      <td>USPS(9200190213424904823533)</td>\n",
       "      <td>$16.60</td>\n",
       "      <td>1.00</td>\n",
       "      <td>17.60</td>\n",
       "      <td>0</td>\n",
       "      <td>0.0</td>\n",
       "      <td>0</td>\n",
       "      <td>Kali</td>\n",
       "      <td>USD</td>\n",
       "      <td>0.0</td>\n",
       "    </tr>\n",
       "    <tr>\n",
       "      <th>3</th>\n",
       "      <td>2019-10-31</td>\n",
       "      <td>114-7905947-1248212</td>\n",
       "      <td>CLEECLI Women's Ballroom Dance Shoes Latin Sal...</td>\n",
       "      <td>SHOES</td>\n",
       "      <td>B07G4Y1GCR</td>\n",
       "      <td>53110000.0</td>\n",
       "      <td>Amazon.com</td>\n",
       "      <td>0</td>\n",
       "      <td>new</td>\n",
       "      <td>CLEECLI</td>\n",
       "      <td>...</td>\n",
       "      <td>UPS(1Z874RY40301209674)</td>\n",
       "      <td>$39.99</td>\n",
       "      <td>2.40</td>\n",
       "      <td>42.39</td>\n",
       "      <td>0</td>\n",
       "      <td>0.0</td>\n",
       "      <td>0</td>\n",
       "      <td>Kali</td>\n",
       "      <td>USD</td>\n",
       "      <td>0.0</td>\n",
       "    </tr>\n",
       "    <tr>\n",
       "      <th>4</th>\n",
       "      <td>2019-10-31</td>\n",
       "      <td>114-7905947-1248212</td>\n",
       "      <td>Womens High Waist A-line Full Flared Swing Off...</td>\n",
       "      <td>SKIRT</td>\n",
       "      <td>B07X87DNK4</td>\n",
       "      <td>53100000.0</td>\n",
       "      <td>Amazon.com</td>\n",
       "      <td>0</td>\n",
       "      <td>new</td>\n",
       "      <td>Jack Smith Fashion</td>\n",
       "      <td>...</td>\n",
       "      <td>UPS(1Z874RY40301209674)</td>\n",
       "      <td>$18.99</td>\n",
       "      <td>1.14</td>\n",
       "      <td>20.13</td>\n",
       "      <td>0</td>\n",
       "      <td>0.0</td>\n",
       "      <td>0</td>\n",
       "      <td>Kali</td>\n",
       "      <td>USD</td>\n",
       "      <td>0.0</td>\n",
       "    </tr>\n",
       "  </tbody>\n",
       "</table>\n",
       "<p>5 rows × 36 columns</p>\n",
       "</div>"
      ],
      "text/plain": [
       "  Order Date             Order ID  \\\n",
       "0 2019-08-12  114-1601351-0527409   \n",
       "1 2019-08-12  114-1601351-0527409   \n",
       "2 2019-10-31  114-5583333-9789832   \n",
       "3 2019-10-31  114-7905947-1248212   \n",
       "4 2019-10-31  114-7905947-1248212   \n",
       "\n",
       "                                               Title   Category   ASIN/ISBN  \\\n",
       "0                   Energy, Environment, and Climate  ABIS_BOOK  0393622916   \n",
       "1                   Energy, Environment, and Climate  ABIS_BOOK  0393622916   \n",
       "2       Capezio Women's Classic Short Sleeve Leotard    LEOTARD  B002KIA000   \n",
       "3  CLEECLI Women's Ballroom Dance Shoes Latin Sal...      SHOES  B07G4Y1GCR   \n",
       "4  Womens High Waist A-line Full Flared Swing Off...      SKIRT  B07X87DNK4   \n",
       "\n",
       "   UNSPSC Code     Website         Release Date  Condition  \\\n",
       "0   55101500.0  Amazon.com  2017-08-15T00:00:01  used good   \n",
       "1   55101500.0  Amazon.com  2017-08-15T00:00:01  used good   \n",
       "2   53100000.0  Amazon.com                    0        new   \n",
       "3   53110000.0  Amazon.com                    0        new   \n",
       "4   53100000.0  Amazon.com                    0        new   \n",
       "\n",
       "               Seller  ... Carrier Name & Tracking Number Item Subtotal  \\\n",
       "0            eCampus_  ...   SUREPOST(1Z9702X53A89128833)        $33.15   \n",
       "1            eCampus_  ...   SUREPOST(1Z9702X53A89128833)        $33.15   \n",
       "2         Smilar Love  ...   USPS(9200190213424904823533)        $16.60   \n",
       "3             CLEECLI  ...        UPS(1Z874RY40301209674)        $39.99   \n",
       "4  Jack Smith Fashion  ...        UPS(1Z874RY40301209674)        $18.99   \n",
       "\n",
       "  Item Subtotal Tax  Item Total Tax Exemption Applied  Tax Exemption Type  \\\n",
       "0              1.99       35.14                 False                 0.0   \n",
       "1              1.99       35.14                 False                 0.0   \n",
       "2              1.00       17.60                     0                 0.0   \n",
       "3              2.40       42.39                     0                 0.0   \n",
       "4              1.14       20.13                     0                 0.0   \n",
       "\n",
       "   Exemption Opt-Out Buyer Name Currency Group Name  \n",
       "0              False       Kali      USD        0.0  \n",
       "1              False       Kali      USD        0.0  \n",
       "2                  0       Kali      USD        0.0  \n",
       "3                  0       Kali      USD        0.0  \n",
       "4                  0       Kali      USD        0.0  \n",
       "\n",
       "[5 rows x 36 columns]"
      ]
     },
     "execution_count": 3,
     "metadata": {},
     "output_type": "execute_result"
    }
   ],
   "source": [
    "#Data cleaning\n",
    "df = df.fillna(0)\n",
    "df[\"Item Total\"] = df[\"Item Total\"].str.replace(\"$\", \"\").astype(float)\n",
    "df[\"Item Subtotal Tax\"] = df[\"Item Subtotal Tax\"].str.replace(\"$\", \"\").astype(float)\n",
    "df[\"Order Date\"] = pd.to_datetime(df[\"Order Date\"])\n",
    "df.head()"
   ]
  },
  {
   "cell_type": "code",
   "execution_count": 38,
   "id": "1f4e5363",
   "metadata": {},
   "outputs": [
    {
     "name": "stdout",
     "output_type": "stream",
     "text": [
      "Total Charged    Average     SD      Min      Q1    Median    Q3   Max\n",
      "    2060.28       31.7      33.82    0.0    15.85   20.88   31.8   167.43\n"
     ]
    }
   ],
   "source": [
    "import numpy as np\n",
    "import pandas as pd\n",
    "total_charged = df[\"Item Total\"].sum()\n",
    "average_purchase = round(df[\"Item Total\"].mean(), 2)\n",
    "median_purchase = df[\"Item Total\"].median()\n",
    "Q1 = np.quantile(df[\"Item Total\"], 0.25)\n",
    "Q3 = np.quantile(df[\"Item Total\"], 0.75)\n",
    "most_expensive = df[\"Item Total\"].max()\n",
    "least_expensive = df[\"Item Total\"].min()\n",
    "total_tax = df[\"Item Subtotal Tax\"].sum()\n",
    "sd = round(df[\"Item Total\"].std(), 2)\n",
    "\n",
    "print(\"Total Charged    Average     SD      Min      Q1    Median    Q3   Max\")\n",
    "print(\"    {}       {}      {}    {}    {}   {}   {}   {}\".format(total_charged, average_purchase, sd, least_expensive, Q1, median_purchase, Q3, most_expensive))\n",
    "\n"
   ]
  },
  {
   "cell_type": "code",
   "execution_count": 5,
   "id": "d12f42dc",
   "metadata": {},
   "outputs": [
    {
     "data": {
      "text/plain": [
       "<AxesSubplot:title={'center':'Individual Orders by Date and Price'}, xlabel='Order Date', ylabel='Item Total'>"
      ]
     },
     "execution_count": 5,
     "metadata": {},
     "output_type": "execute_result"
    },
    {
     "data": {
      "image/png": "[encoded data removed]",
      "text/plain": [
       "<Figure size 720x504 with 1 Axes>"
      ]
     },
     "metadata": {
      "needs_background": "light"
     },
     "output_type": "display_data"
    }
   ],
   "source": [
    "df.plot.scatter(x = \"Order Date\", y = \"Item Total\", figsize = (10,7), \n",
    "                title = \"Individual Orders by Date and Price\")"
   ]
  },
  {
   "cell_type": "code",
   "execution_count": null,
   "id": "188b8d2e",
   "metadata": {},
   "outputs": [],
   "source": [
    "\n",
    "            "
   ]
  },
  {
   "cell_type": "code",
   "execution_count": 6,
   "id": "eed4a721",
   "metadata": {},
   "outputs": [
    {
     "data": {
      "text/plain": [
       "<AxesSubplot:title={'center':'Daily Orders'}, xlabel='Order Date'>"
      ]
     },
     "execution_count": 6,
     "metadata": {},
     "output_type": "execute_result"
    },
    {
     "data": {
      "image/png": "[encoded data removed]",
      "text/plain": [
       "<Figure size 864x504 with 1 Axes>"
      ]
     },
     "metadata": {
      "needs_background": "light"
     },
     "output_type": "display_data"
    }
   ],
   "source": [
    "import matplotlib.pyplot as plt\n",
    "daily_orders = df.groupby(\"Order Date\").sum()[\"Item Total\"]\n",
    "daily_orders.plot.bar(figsize = (12,7), title = \"Daily Orders\")\n",
    "\n"
   ]
  },
  {
   "cell_type": "code",
   "execution_count": 7,
   "id": "d2fdac80",
   "metadata": {},
   "outputs": [
    {
     "data": {
      "text/plain": [
       "<AxesSubplot:title={'center':'Order totals by month'}, ylabel='Item Total'>"
      ]
     },
     "execution_count": 7,
     "metadata": {},
     "output_type": "execute_result"
    },
    {
     "data": {
      "image/png": "[encoded data removed]",
      "text/plain": [
       "<Figure size 432x288 with 1 Axes>"
      ]
     },
     "metadata": {},
     "output_type": "display_data"
    }
   ],
   "source": [
    "monthly_orders = df.groupby(df[\"Order Date\"].dt.month).sum()[\"Item Total\"]\n",
    "monthly_orders.head()\n",
    "monthly_orders.plot.pie(colors = [\"red\", \"darkorange\", \"sandybrown\", 'gold', \n",
    "                                  'limegreen', \"springgreen\", 'mediumturquoise',\n",
    "                                  \"royalblue\", \"slateblue\", \"darkviolet\"],\n",
    "                       title = \"Order totals by month\")"
   ]
  },
  {
   "cell_type": "code",
   "execution_count": 8,
   "id": "af6e5306",
   "metadata": {},
   "outputs": [
    {
     "name": "stdout",
     "output_type": "stream",
     "text": [
      "[-135.0, -135.0, -55.0, -55.0, -55.0, -344.0, -250.0, -236.0, -219.0, -215.0, -215.0, -215.0, -215.0, -202.0, -194.0, -181.0, -181.0, -181.0, -170.0, -170.0, -170.0, -170.0, -169.0, -169.0, -163.0, -127.0, -127.0, -127.0, -114.0, -73.0, -8.0, -8.0, -351.0, -351.0, -351.0, -349.0, -349.0, -118.0, -118.0, -118.0, -118.0, -118.0, -118.0, -102.0, -53.0, -53.0, -53.0, -12.0, -329.0, -317.0, -231.0, -193.0, -193.0, -193.0, -129.0, -129.0, -118.0, -84.0, -84.0, -84.0, -84.0, -84.0, -54.0, -54.0, -54.0]\n"
     ]
    }
   ],
   "source": [
    "from datetime import datetime, timedelta \n",
    "import pandas as pd\n",
    "\n",
    "christmas_list = []\n",
    "\n",
    "for date in df[\"Order Date\"]:\n",
    "    christmas = pd.to_datetime(\"12-25-{}\".format(date.year))\n",
    "    christmas_list.append(christmas)\n",
    "\n",
    "days_until_christmas = []\n",
    "\n",
    "for index in range(0, len(df[\"Order Date\"])):\n",
    "    days_until = df[\"Order Date\"][index]-christmas_list[index]\n",
    "    days_until_christmas.append(float(days_until/ timedelta(days = 1)))\n",
    "print(days_until_christmas)"
   ]
  },
  {
   "cell_type": "code",
   "execution_count": 11,
   "id": "686bf1bf",
   "metadata": {},
   "outputs": [],
   "source": [
    "school_start = []\n",
    "\n",
    "for date in df[\"Order Date\"]:\n",
    "    school = pd.to_datetime(\"9-1-{}\".format(date.year))\n",
    "    school_start.append(school)\n",
    "\n",
    "days_until_school = [] \n",
    "for index in range(0, len(df[\"Order Date\"])):\n",
    "    days_until = df[\"Order Date\"][index]-school_start[index]\n",
    "    days_until_school.append(float(days_until/ timedelta(days = 1)))"
   ]
  },
  {
   "cell_type": "code",
   "execution_count": 13,
   "id": "e7472a1f",
   "metadata": {},
   "outputs": [
    {
     "name": "stdout",
     "output_type": "stream",
     "text": [
      "{-135.0: 2, -55.0: 3, -344.0: 1, -250.0: 1, -236.0: 1, -219.0: 1, -215.0: 4, -202.0: 1, -194.0: 1, -181.0: 3, -170.0: 4, -169.0: 2, -163.0: 1, -127.0: 3, -114.0: 1, -73.0: 1, -8.0: 2, -351.0: 3, -349.0: 2, -118.0: 7, -102.0: 1, -53.0: 3, -12.0: 1, -329.0: 1, -317.0: 1, -231.0: 1, -193.0: 3, -129.0: 2, -84.0: 5, -54.0: 3}\n"
     ]
    }
   ],
   "source": [
    "bc_numpurchases = {}\n",
    "\n",
    "for day in days_until_christmas:\n",
    "    if day not in bc_numpurchases.keys():\n",
    "        bc_numpurchases[day] = 1\n",
    "    elif day in bc_numpurchases.keys():\n",
    "        bc_numpurchases[day] += 1\n",
    "print(bc_numpurchases)"
   ]
  },
  {
   "cell_type": "code",
   "execution_count": 20,
   "id": "39df4f77",
   "metadata": {},
   "outputs": [
    {
     "name": "stdout",
     "output_type": "stream",
     "text": [
      "{-135.0: 70.28, -55.0: 80.12, -344.0: 48.21, -250.0: 27.55, -236.0: 10.56, -219.0: 148.3, -215.0: 83.58, -202.0: 16.44, -194.0: 60.95, -181.0: 105.36, -170.0: 138.63, -169.0: 31.78, -163.0: 14.83, -127.0: 34.3, -114.0: 29.67, -73.0: 6.3, -8.0: 42.95, -351.0: 71.7, -349.0: 35.65, -118.0: 240.04, -102.0: 28.61, -53.0: 45.2, -12.0: 21.61, -329.0: 12.92, -317.0: 111.28, -231.0: 29.72, -193.0: 42.24, -129.0: 286.15, -84.0: 147.46, -54.0: 37.89}\n"
     ]
    }
   ],
   "source": [
    "bc_valpurchases = {}\n",
    "for index in range(0, len(df[\"Item Total\"])):\n",
    "    if days_until_christmas[index] not in bc_valpurchases.keys():\n",
    "        bc_valpurchases[days_until_christmas[index]] = df[\"Item Total\"][index]\n",
    "    elif days_until_christmas[index] in bc_valpurchases.keys():\n",
    "        bc_valpurchases[days_until_christmas[index]] += df[\"Item Total\"][index]\n",
    "        \n",
    "print(bc_valpurchases)"
   ]
  },
  {
   "cell_type": "code",
   "execution_count": 14,
   "id": "56b831d9",
   "metadata": {},
   "outputs": [
    {
     "name": "stdout",
     "output_type": "stream",
     "text": [
      "{-20.0: 2, 60.0: 3, -229.0: 1, -135.0: 1, -121.0: 1, -104.0: 1, -100.0: 4, -87.0: 1, -79.0: 1, -66.0: 3, -55.0: 4, -54.0: 2, -48.0: 1, -12.0: 3, 1.0: 1, 42.0: 1, 107.0: 2, -236.0: 3, -234.0: 2, -3.0: 7, 13.0: 1, 62.0: 3, 103.0: 1, -214.0: 1, -202.0: 1, -116.0: 1, -78.0: 3, -14.0: 2, 31.0: 5, 61.0: 3}\n"
     ]
    }
   ],
   "source": [
    "bs_numpurchases= {}\n",
    "\n",
    "for index in range(0, len(df[\"Item Total\"])):\n",
    "    if days_until_school[index] not in bs_numpurchases.keys():\n",
    "        bs_numpurchases[days_until_school[index]] = 1\n",
    "    elif days_until_school[index] in bs_numpurchases.keys():\n",
    "        bs_numpurchases[days_until_school[index]] += 1\n",
    "print(bs_numpurchases)"
   ]
  },
  {
   "cell_type": "code",
   "execution_count": 18,
   "id": "22162aa0",
   "metadata": {},
   "outputs": [
    {
     "name": "stdout",
     "output_type": "stream",
     "text": [
      "{-20.0: 70.28, 60.0: 80.12, -229.0: 48.21, -135.0: 27.55, -121.0: 10.56, -104.0: 148.3, -100.0: 83.58, -87.0: 16.44, -79.0: 60.95, -66.0: 105.36, -55.0: 138.63, -54.0: 31.78, -48.0: 14.83, -12.0: 34.3, 1.0: 29.67, 42.0: 6.3, 107.0: 42.95, -236.0: 71.7, -234.0: 35.65, -3.0: 240.04, 13.0: 28.61, 62.0: 45.2, 103.0: 21.61, -214.0: 12.92, -202.0: 111.28, -116.0: 29.72, -78.0: 42.24, -14.0: 286.15, 31.0: 147.46, 61.0: 37.89}\n"
     ]
    }
   ],
   "source": [
    "bs_valpurchases = {}\n",
    "for index in range(0, len(df[\"Item Total\"])):\n",
    "    if days_until_school[index] not in bs_valpurchases.keys():\n",
    "        bs_valpurchases[days_until_school[index]] = df[\"Item Total\"][index]\n",
    "    elif days_until_school[index] in bs_valpurchases.keys():\n",
    "        bs_valpurchases[days_until_school[index]] += df[\"Item Total\"][index]\n",
    "\n",
    "print(bs_valpurchases)\n"
   ]
  },
  {
   "cell_type": "code",
   "execution_count": 16,
   "id": "4946406f",
   "metadata": {},
   "outputs": [
    {
     "data": {
      "text/plain": [
       "<matplotlib.legend.Legend at 0x7f87574e2a60>"
      ]
     },
     "execution_count": 16,
     "metadata": {},
     "output_type": "execute_result"
    },
    {
     "data": {
      "image/png": "[encoded data removed]",
      "text/plain": [
       "<Figure size 432x288 with 1 Axes>"
      ]
     },
     "metadata": {
      "needs_background": "light"
     },
     "output_type": "display_data"
    }
   ],
   "source": [
    "xlist1 = np.array(list(bc_numpurchases.keys()))\n",
    "ylist1 = np.array(list(bc_numpurchases.values()))\n",
    "\n",
    "xlist2 = np.array(list(bs_numpurchases.keys()))\n",
    "ylist2 = np.array(list(bs_numpurchases.values()))\n",
    "\n",
    "plt.scatter(xlist1, ylist1, label = \"Days Until Christmas\")\n",
    "plt.scatter(xlist2, ylist2, label = \"Days Until School\")\n",
    "a, b = np.polyfit(xlist1, ylist1, 1)\n",
    "c, d = np.polyfit(xlist2, ylist2, 1)\n",
    "\n",
    "plt.plot(xlist1, xlist1*a+b)\n",
    "plt.plot(xlist2, xlist2*c+d)\n",
    "plt.xlabel(\"Days Until School/Christmas\")\n",
    "plt.ylabel(\"Number of Purchases\")\n",
    "plt.title(\"Number of Purchases \\n by How Many Days Until School/Christmas\")\n",
    "plt.legend()"
   ]
  },
  {
   "cell_type": "code",
   "execution_count": 21,
   "id": "fb631270",
   "metadata": {},
   "outputs": [
    {
     "data": {
      "text/plain": [
       "<matplotlib.legend.Legend at 0x7f87573fc100>"
      ]
     },
     "execution_count": 21,
     "metadata": {},
     "output_type": "execute_result"
    },
    {
     "data": {
      "image/png": "[encoded data removed]",
      "text/plain": [
       "<Figure size 432x288 with 1 Axes>"
      ]
     },
     "metadata": {
      "needs_background": "light"
     },
     "output_type": "display_data"
    }
   ],
   "source": [
    "xlist3 = np.array(list(bc_valpurchases.keys()))\n",
    "ylist3 = np.array(list(bc_valpurchases.values()))\n",
    "\n",
    "xlist4 = np.array(list(bs_valpurchases.keys()))\n",
    "ylist4 = np.array(list(bs_valpurchases.values()))\n",
    "\n",
    "plt.scatter(xlist3, ylist3, label = \"Days Until Christmas\")\n",
    "plt.scatter(xlist4, ylist4, label = \"Days Until School\")\n",
    "a, b = np.polyfit(xlist3, ylist3, 1)\n",
    "plt.plot(xlist3, xlist3*a + b)\n",
    "c, d = np.polyfit(xlist4, ylist4, 1)\n",
    "plt.plot(xlist4, xlist4*c+d)\n",
    "plt.xlabel(\"Days Until School/Christmas\")\n",
    "plt.ylabel(\"Dollar Amount of Purchases\")\n",
    "plt.title(\"Dollar Amount of Purchases \\n by How Many Days Until School/Christmas\")\n",
    "plt.legend()"
   ]
  },
  {
   "cell_type": "code",
   "execution_count": null,
   "id": "e418fa53",
   "metadata": {},
   "outputs": [],
   "source": []
  }
 ],
 "metadata": {
  "kernelspec": {
   "display_name": "Python 3 (ipykernel)",
   "language": "python",
   "name": "python3"
  },
  "language_info": {
   "codemirror_mode": {
    "name": "ipython",
    "version": 3
   },
   "file_extension": ".py",
   "mimetype": "text/x-python",
   "name": "python",
   "nbconvert_exporter": "python",
   "pygments_lexer": "ipython3",
   "version": "3.9.12"
  }
 },
 "nbformat": 4,
 "nbformat_minor": 5
}
