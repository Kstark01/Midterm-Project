{
 "cells": [
  {
   "cell_type": "code",
   "execution_count": 1,
   "id": "be3082a2",
   "metadata": {},
   "outputs": [
    {
     "name": "stdout",
     "output_type": "stream",
     "text": [
      "['2,4,6,8,4,5,2,1,9,0,4,6,7,4,3,2,1,9,10,3,7,9,6,0,1,3,5,6,7,8,9,10,2,3,6,8,9,10,6,7,4,3\\n', '2,1,9,10,3,7,9,6,0,1,3,5,6,7,8,9,10,2,3,6,8,9,10,2,4,6,8,4,5,2,1,9,0,4,6,7,4,3,2,1,9,10,3,7,9,6\\n', '4,5,2,1,9,0,4,6,7,4,3,2,1,9,10,3,7,9,6,0,1,3,5,6,7,8,9,10,2,3,6,8,9,10,6,7,4,3,6,8,4,5,2\\n', '10,3,7,9,6,0,1,3,5,6,7,8,9,10,2,3,6,8,9,10,2,4,6,8,4,5,2,1,9,0,4,6,7,4\\n', '2,4,6,8,4,5,2,1,9,0,4,6,7,4,3,2,1,9,10,3,7,9,6']\n",
      "[2, 4, 6, 8, 4, 5, 2, 1, 9, 0, 4, 6, 7, 4, 3, 2, 1, 9, 10, 3, 7, 9, 6, 0, 1, 3, 5, 6, 7, 8, 9, 10, 2, 3, 6, 8, 9, 10, 6, 7, 4, 3, 2, 1, 9, 10, 3, 7, 9, 6, 0, 1, 3, 5, 6, 7, 8, 9, 10, 2, 3, 6, 8, 9, 10, 2, 4, 6, 8, 4, 5, 2, 1, 9, 0, 4, 6, 7, 4, 3, 2, 1, 9, 10, 3, 7, 9, 6, 4, 5, 2, 1, 9, 0, 4, 6, 7, 4, 3, 2, 1, 9, 10, 3, 7, 9, 6, 0, 1, 3, 5, 6, 7, 8, 9, 10, 2, 3, 6, 8, 9, 10, 6, 7, 4, 3, 6, 8, 4, 5, 2, 10, 3, 7, 9, 6, 0, 1, 3, 5, 6, 7, 8, 9, 10, 2, 3, 6, 8, 9, 10, 2, 4, 6, 8, 4, 5, 2, 1, 9, 0, 4, 6, 7, 4, 2, 4, 6, 8, 4, 5, 2, 1, 9, 0, 4, 6, 7, 4, 3, 2, 1, 9, 10, 3, 7, 9, 6]\n",
      "188\n",
      "188\n"
     ]
    }
   ],
   "source": [
    "#step 1: create list of numbers from numbers.txt\n",
    "f = open(\"numbers.txt\", \"r\")\n",
    "data = f.readlines()\n",
    "print(data)\n",
    "data_by_row = []\n",
    "for x in data:\n",
    "    d = x.split(\",\")\n",
    "    data_by_row.append(d)\n",
    "\n",
    "data_points = []\n",
    "\n",
    "for row in data_by_row:\n",
    "    for pt in row:\n",
    "        if \"\\n\" not in pt:\n",
    "            data_points.append(int(pt))\n",
    "        if \"\\n\" in pt:\n",
    "            pt = pt.strip(\"\\n\")\n",
    "            data_points.append(int(pt))\n",
    "\n",
    "print(data_points)\n",
    "#checking my work to make sure no data point was left out\n",
    "print(len(data_points))\n",
    "length = 0\n",
    "for x in data_by_row:\n",
    "    length += len(x)\n",
    "print(length)"
   ]
  },
  {
   "cell_type": "code",
   "execution_count": 2,
   "id": "b922ae36",
   "metadata": {},
   "outputs": [
    {
     "data": {
      "text/plain": [
       "(10, 14)"
      ]
     },
     "execution_count": 2,
     "metadata": {},
     "output_type": "execute_result"
    }
   ],
   "source": [
    "#function for determining frequency \n",
    "def count_freq(x, lst):\n",
    "    count = 0\n",
    "    for n in lst:\n",
    "        if n == x:\n",
    "            count+=1\n",
    "    return x, count\n",
    "count_freq(10, data_points)\n"
   ]
  },
  {
   "cell_type": "code",
   "execution_count": 3,
   "id": "0d85cdae",
   "metadata": {},
   "outputs": [
    {
     "name": "stdout",
     "output_type": "stream",
     "text": [
      "{2: 19, 4: 22, 6: 26, 8: 13, 5: 10, 1: 14, 9: 24, 0: 9, 7: 17, 3: 20, 10: 14}\n"
     ]
    }
   ],
   "source": [
    "#running function and adding to dictionary \n",
    "d = {}\n",
    "for x in data_points:\n",
    "    if x not in d.keys():\n",
    "        a = count_freq(x, data_points)\n",
    "        d[a[0]] = a[1]\n",
    "    \n",
    "print(d)"
   ]
  },
  {
   "cell_type": "code",
   "execution_count": 15,
   "id": "a72eca2f",
   "metadata": {},
   "outputs": [
    {
     "data": {
      "text/plain": [
       "Text(0.5, 1.0, 'Frequency of Numbers')"
      ]
     },
     "execution_count": 15,
     "metadata": {},
     "output_type": "execute_result"
    },
    {
     "data": {
      "image/png": "[encoded data removed]",
      "text/plain": [
       "<Figure size 432x288 with 1 Axes>"
      ]
     },
     "metadata": {
      "needs_background": "light"
     },
     "output_type": "display_data"
    }
   ],
   "source": [
    "import matplotlib.pyplot as plt\n",
    "import numpy as np\n",
    "plt.hist(np.array(data_points), 11)\n",
    "plt.title(\"Frequency of Numbers\")\n"
   ]
  },
  {
   "cell_type": "code",
   "execution_count": 6,
   "id": "febd56d6",
   "metadata": {},
   "outputs": [
    {
     "data": {
      "text/plain": [
       "Text(0, 0.5, 'Frequency')"
      ]
     },
     "execution_count": 6,
     "metadata": {},
     "output_type": "execute_result"
    },
    {
     "data": {
      "image/png": "[encoded data removed]",
      "text/plain": [
       "<Figure size 432x288 with 1 Axes>"
      ]
     },
     "metadata": {
      "needs_background": "light"
     },
     "output_type": "display_data"
    }
   ],
   "source": [
    "numbers = np.array(list(d.keys()))\n",
    "freqs = np.array(list(d.values()))\n",
    "plt.bar(numbers, freqs)\n",
    "plt.title(\"Frequency of Numbers\")\n",
    "plt.xlabel(\"Number\")\n",
    "plt.ylabel(\"Frequency\")"
   ]
  },
  {
   "cell_type": "code",
   "execution_count": 7,
   "id": "6b3bdb19",
   "metadata": {},
   "outputs": [],
   "source": [
    "#save dictionary as a JSON file\n",
    "import json \n",
    "json_obj = json.dumps(d)\n",
    "with open(\"newjson.json\", \"w\") as outfile:\n",
    "    outfile.write(json_obj)"
   ]
  },
  {
   "cell_type": "code",
   "execution_count": null,
   "id": "45fb276d",
   "metadata": {},
   "outputs": [],
   "source": []
  },
  {
   "cell_type": "code",
   "execution_count": null,
   "id": "8481c509",
   "metadata": {},
   "outputs": [],
   "source": []
  }
 ],
 "metadata": {
  "kernelspec": {
   "display_name": "Python 3 (ipykernel)",
   "language": "python",
   "name": "python3"
  },
  "language_info": {
   "codemirror_mode": {
    "name": "ipython",
    "version": 3
   },
   "file_extension": ".py",
   "mimetype": "text/x-python",
   "name": "python",
   "nbconvert_exporter": "python",
   "pygments_lexer": "ipython3",
   "version": "3.9.12"
  }
 },
 "nbformat": 4,
 "nbformat_minor": 5
}
